{
 "cells": [
  {
   "cell_type": "code",
   "execution_count": 1,
   "id": "8bbf7066",
   "metadata": {},
   "outputs": [],
   "source": [
    "import numpy as np\n",
    "import pandas as pd\n",
    "import os\n",
    "import glob"
   ]
  },
  {
   "cell_type": "code",
   "execution_count": 2,
   "id": "2d99957c",
   "metadata": {},
   "outputs": [
    {
     "data": {
      "text/html": [
       "<div>\n",
       "<style scoped>\n",
       "    .dataframe tbody tr th:only-of-type {\n",
       "        vertical-align: middle;\n",
       "    }\n",
       "\n",
       "    .dataframe tbody tr th {\n",
       "        vertical-align: top;\n",
       "    }\n",
       "\n",
       "    .dataframe thead th {\n",
       "        text-align: right;\n",
       "    }\n",
       "</style>\n",
       "<table border=\"1\" class=\"dataframe\">\n",
       "  <thead>\n",
       "    <tr style=\"text-align: right;\">\n",
       "      <th></th>\n",
       "      <th>remote_hostname</th>\n",
       "    </tr>\n",
       "  </thead>\n",
       "  <tbody>\n",
       "    <tr>\n",
       "      <th>0</th>\n",
       "      <td>1cros.net</td>\n",
       "    </tr>\n",
       "    <tr>\n",
       "      <th>1</th>\n",
       "      <td>2022welcome.com</td>\n",
       "    </tr>\n",
       "    <tr>\n",
       "      <th>2</th>\n",
       "      <td>31daa5lnq.de</td>\n",
       "    </tr>\n",
       "    <tr>\n",
       "      <th>3</th>\n",
       "      <td>520886.xyz</td>\n",
       "    </tr>\n",
       "    <tr>\n",
       "      <th>4</th>\n",
       "      <td>8672.site</td>\n",
       "    </tr>\n",
       "    <tr>\n",
       "      <th>...</th>\n",
       "      <td>...</td>\n",
       "    </tr>\n",
       "    <tr>\n",
       "      <th>32179</th>\n",
       "      <td>win10.ipv6.microsoft.com</td>\n",
       "    </tr>\n",
       "    <tr>\n",
       "      <th>32180</th>\n",
       "      <td>win1710.ipv6.microsoft.com</td>\n",
       "    </tr>\n",
       "    <tr>\n",
       "      <th>32181</th>\n",
       "      <td>win8.ipv6.microsoft.com</td>\n",
       "    </tr>\n",
       "    <tr>\n",
       "      <th>32182</th>\n",
       "      <td>xblgdvrassets3010.blob.core.windows.net</td>\n",
       "    </tr>\n",
       "    <tr>\n",
       "      <th>32183</th>\n",
       "      <td>ztd.dds.microsoft.com</td>\n",
       "    </tr>\n",
       "  </tbody>\n",
       "</table>\n",
       "<p>32184 rows × 1 columns</p>\n",
       "</div>"
      ],
      "text/plain": [
       "                               remote_hostname\n",
       "0                                    1cros.net\n",
       "1                              2022welcome.com\n",
       "2                                 31daa5lnq.de\n",
       "3                                   520886.xyz\n",
       "4                                    8672.site\n",
       "...                                        ...\n",
       "32179                 win10.ipv6.microsoft.com\n",
       "32180               win1710.ipv6.microsoft.com\n",
       "32181                  win8.ipv6.microsoft.com\n",
       "32182  xblgdvrassets3010.blob.core.windows.net\n",
       "32183                    ztd.dds.microsoft.com\n",
       "\n",
       "[32184 rows x 1 columns]"
      ]
     },
     "execution_count": 2,
     "metadata": {},
     "output_type": "execute_result"
    }
   ],
   "source": [
    "path = './Firebog Tracking & Telemetry Lists/'\n",
    "files = glob.glob(os.path.join(path, \"*.txt\"))\n",
    "\n",
    "trackers = [] \n",
    "\n",
    "for file in files:\n",
    "    df = pd.read_csv(file, header=None, names=['remote_hostname'])\n",
    "    trackers.append(df)\n",
    "\n",
    "trackers = pd.concat(trackers, axis=0, ignore_index=True)\n",
    "trackers"
   ]
  },
  {
   "cell_type": "code",
   "execution_count": 5,
   "id": "fda7b82e",
   "metadata": {},
   "outputs": [
    {
     "data": {
      "text/plain": [
       "31304"
      ]
     },
     "execution_count": 5,
     "metadata": {},
     "output_type": "execute_result"
    }
   ],
   "source": [
    "len(trackers['remote_hostname'].unique())"
   ]
  },
  {
   "cell_type": "code",
   "execution_count": 15,
   "id": "5e418566",
   "metadata": {},
   "outputs": [],
   "source": [
    "trackers.to_csv(' Green Tracking & Telemetry Lists.csv', index=False)"
   ]
  },
  {
   "cell_type": "code",
   "execution_count": 48,
   "id": "0ac88467",
   "metadata": {},
   "outputs": [
    {
     "data": {
      "text/html": [
       "<div>\n",
       "<style scoped>\n",
       "    .dataframe tbody tr th:only-of-type {\n",
       "        vertical-align: middle;\n",
       "    }\n",
       "\n",
       "    .dataframe tbody tr th {\n",
       "        vertical-align: top;\n",
       "    }\n",
       "\n",
       "    .dataframe thead th {\n",
       "        text-align: right;\n",
       "    }\n",
       "</style>\n",
       "<table border=\"1\" class=\"dataframe\">\n",
       "  <thead>\n",
       "    <tr style=\"text-align: right;\">\n",
       "      <th></th>\n",
       "      <th>remote_hostname</th>\n",
       "    </tr>\n",
       "  </thead>\n",
       "  <tbody>\n",
       "    <tr>\n",
       "      <th>0</th>\n",
       "      <td>ep.umobile.pl</td>\n",
       "    </tr>\n",
       "    <tr>\n",
       "      <th>1</th>\n",
       "      <td>snonoz.com</td>\n",
       "    </tr>\n",
       "    <tr>\n",
       "      <th>2</th>\n",
       "      <td>eignal.com</td>\n",
       "    </tr>\n",
       "    <tr>\n",
       "      <th>3</th>\n",
       "      <td>wonsegax.net</td>\n",
       "    </tr>\n",
       "    <tr>\n",
       "      <th>4</th>\n",
       "      <td>ithyourretye.xyz</td>\n",
       "    </tr>\n",
       "    <tr>\n",
       "      <th>...</th>\n",
       "      <td>...</td>\n",
       "    </tr>\n",
       "    <tr>\n",
       "      <th>138731</th>\n",
       "      <td>zeus.developershed.com</td>\n",
       "    </tr>\n",
       "    <tr>\n",
       "      <th>138732</th>\n",
       "      <td>zeusclicks.com</td>\n",
       "    </tr>\n",
       "    <tr>\n",
       "      <th>138733</th>\n",
       "      <td>zintext.com</td>\n",
       "    </tr>\n",
       "    <tr>\n",
       "      <th>138734</th>\n",
       "      <td>zmedia.com</td>\n",
       "    </tr>\n",
       "    <tr>\n",
       "      <th>138735</th>\n",
       "      <td>zumobi.com</td>\n",
       "    </tr>\n",
       "  </tbody>\n",
       "</table>\n",
       "<p>138736 rows × 1 columns</p>\n",
       "</div>"
      ],
      "text/plain": [
       "               remote_hostname\n",
       "0                ep.umobile.pl\n",
       "1                   snonoz.com\n",
       "2                   eignal.com\n",
       "3                 wonsegax.net\n",
       "4             ithyourretye.xyz\n",
       "...                        ...\n",
       "138731  zeus.developershed.com\n",
       "138732          zeusclicks.com\n",
       "138733             zintext.com\n",
       "138734              zmedia.com\n",
       "138735              zumobi.com\n",
       "\n",
       "[138736 rows x 1 columns]"
      ]
     },
     "execution_count": 48,
     "metadata": {},
     "output_type": "execute_result"
    }
   ],
   "source": [
    "path = './Firebog Ad List/'\n",
    "files = glob.glob(os.path.join(path, \"*.txt\"))\n",
    "\n",
    "advertisers = [] \n",
    "\n",
    "for file in files:\n",
    "    df = pd.read_csv(file, header=None, names=['remote_hostname'])\n",
    "    advertisers.append(df)\n",
    "\n",
    "advertisers = pd.concat(advertisers, axis=0, ignore_index=True)\n",
    "advertisers"
   ]
  },
  {
   "cell_type": "code",
   "execution_count": 49,
   "id": "29789b25",
   "metadata": {},
   "outputs": [],
   "source": [
    "advertisers.drop_duplicates(inplace=True, ignore_index=True)"
   ]
  },
  {
   "cell_type": "code",
   "execution_count": 51,
   "id": "5c2a7fa6",
   "metadata": {},
   "outputs": [],
   "source": [
    "advertisers.to_csv('Green Advertisers List.csv', index=False)"
   ]
  }
 ],
 "metadata": {
  "kernelspec": {
   "display_name": "Python 3 (ipykernel)",
   "language": "python",
   "name": "python3"
  },
  "language_info": {
   "codemirror_mode": {
    "name": "ipython",
    "version": 3
   },
   "file_extension": ".py",
   "mimetype": "text/x-python",
   "name": "python",
   "nbconvert_exporter": "python",
   "pygments_lexer": "ipython3",
   "version": "3.8.8"
  }
 },
 "nbformat": 4,
 "nbformat_minor": 5
}
